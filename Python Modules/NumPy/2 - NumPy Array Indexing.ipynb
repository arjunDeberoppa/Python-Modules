{
 "cells": [
  {
   "cell_type": "markdown",
   "id": "bef4ed3c",
   "metadata": {},
   "source": [
    "## Access Array Elements\n",
    "\n",
    "Array indexing is the same as accessing an array element.\n",
    "You can access an array element by referring to its index number.\n",
    "\n",
    "The indexes in NumPy arrays start with 0, meaning that the first element has index 0, and the second has index 1 etc.\n",
    "\n",
    "### Example\n",
    "\n",
    "Get the first element from the following array:\n",
    "\n",
    "Get second and fourth elements from the following array and add them."
   ]
  },
  {
   "cell_type": "code",
   "execution_count": 5,
   "id": "8337801d",
   "metadata": {},
   "outputs": [
    {
     "name": "stdout",
     "output_type": "stream",
     "text": [
      "1\n",
      "4\n",
      "6\n"
     ]
    }
   ],
   "source": [
    "import numpy as np\n",
    "arr = np.array([1, 2, 3, 4])\n",
    "print(arr[0])\n",
    "print(arr[3])\n",
    "print(arr[1]+arr[3])"
   ]
  },
  {
   "cell_type": "markdown",
   "id": "173f28f1",
   "metadata": {},
   "source": [
    "## Access 2-D Arrays\n",
    "\n",
    "To access elements from 2-D arrays we can use comma separated integers representing the dimension and the index of the element.\n",
    "\n",
    "Think of 2-D arrays like a table with rows and columns, where the dimension represents the row and the index represents the column.\n",
    "\n",
    "### Example\n",
    "Access the element on the first row, second column:"
   ]
  },
  {
   "cell_type": "code",
   "execution_count": 19,
   "id": "62bd648d",
   "metadata": {},
   "outputs": [
    {
     "name": "stdout",
     "output_type": "stream",
     "text": [
      "[[ 1  2  3  4  5  6]\n",
      " [ 7  8  9 10 11 12]]\n",
      "\n",
      " 1\n",
      " 12\n",
      " 5th element on 2nd row:  11\n"
     ]
    }
   ],
   "source": [
    "arr = np.array([[1,2,3,4,5,6],[7,8,9,10,11,12]])\n",
    "print(arr)\n",
    "print(\"\\n\",arr[0,0])\n",
    "print(\"\",arr[1,5])\n",
    "print(' '+'5th element on 2nd row: ', arr[1, 4])"
   ]
  },
  {
   "cell_type": "markdown",
   "id": "c90ebfc0",
   "metadata": {},
   "source": [
    "## Access 3-D Arrays\n",
    "\n",
    "To access elements from 3-D arrays we can use comma separated integers representing the dimensions and the index of the element.\n",
    "\n",
    "### Example\n",
    "Access the third element of the second array of the first array:"
   ]
  },
  {
   "cell_type": "code",
   "execution_count": 20,
   "id": "9e4005c2",
   "metadata": {},
   "outputs": [
    {
     "name": "stdout",
     "output_type": "stream",
     "text": [
      "6\n"
     ]
    }
   ],
   "source": [
    "arr = np.array([[[1, 2, 3], [4, 5, 6]], [[7, 8, 9], [10, 11, 12]]])\n",
    "print(arr[0, 1, 2])"
   ]
  },
  {
   "cell_type": "markdown",
   "id": "05999167",
   "metadata": {},
   "source": [
    "## Negative Indexing\n",
    "Use negative indexing to access an array from the end.\n",
    "\n",
    "### Example\n",
    "Print the last element from the 2nd dim:"
   ]
  },
  {
   "cell_type": "code",
   "execution_count": 24,
   "id": "5c435117",
   "metadata": {},
   "outputs": [
    {
     "name": "stdout",
     "output_type": "stream",
     "text": [
      "Last Element from 1st row:  5\n"
     ]
    }
   ],
   "source": [
    "arr = np.array([[1,2,3,4,5], [6,7,8,9,10]])\n",
    "print(\"Last Element from 1st row: \", arr[-2,-1])"
   ]
  },
  {
   "cell_type": "code",
   "execution_count": null,
   "id": "2b25c14a",
   "metadata": {},
   "outputs": [],
   "source": []
  }
 ],
 "metadata": {
  "kernelspec": {
   "display_name": "Python 3 (ipykernel)",
   "language": "python",
   "name": "python3"
  },
  "language_info": {
   "codemirror_mode": {
    "name": "ipython",
    "version": 3
   },
   "file_extension": ".py",
   "mimetype": "text/x-python",
   "name": "python",
   "nbconvert_exporter": "python",
   "pygments_lexer": "ipython3",
   "version": "3.10.9"
  }
 },
 "nbformat": 4,
 "nbformat_minor": 5
}
