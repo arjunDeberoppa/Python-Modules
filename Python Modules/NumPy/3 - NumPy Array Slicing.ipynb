{
 "cells": [
  {
   "cell_type": "markdown",
   "id": "d4757cf7",
   "metadata": {},
   "source": [
    "## Slicing arrays\n",
    "Slicing in python means taking elements from one given index to another given index.\n",
    "\n",
    "We pass slice instead of index like this: [start:end].\n",
    "\n",
    "We can also define the step, like this: [start:end:step].\n",
    "\n",
    "If we don't pass start its considered 0\n",
    "\n",
    "If we don't pass end its considered length of array in that dimension\n",
    "\n",
    "If we don't pass step its considered 1"
   ]
  },
  {
   "cell_type": "code",
   "execution_count": 1,
   "id": "5ee5a816",
   "metadata": {},
   "outputs": [
    {
     "name": "stdout",
     "output_type": "stream",
     "text": [
      "[2 3 4 5]\n"
     ]
    }
   ],
   "source": [
    "import numpy as np\n",
    "arr = np.array([1, 2, 3, 4, 5, 6, 7])\n",
    "print(arr[1:5])"
   ]
  },
  {
   "cell_type": "code",
   "execution_count": 2,
   "id": "26bfb576",
   "metadata": {},
   "outputs": [
    {
     "name": "stdout",
     "output_type": "stream",
     "text": [
      "[5 6 7]\n"
     ]
    }
   ],
   "source": [
    "arr = np.array([1, 2, 3, 4, 5, 6, 7])\n",
    "print(arr[4:])"
   ]
  },
  {
   "cell_type": "code",
   "execution_count": 3,
   "id": "564f51a0",
   "metadata": {},
   "outputs": [
    {
     "name": "stdout",
     "output_type": "stream",
     "text": [
      "[1 2 3 4]\n"
     ]
    }
   ],
   "source": [
    "arr = np.array([1, 2, 3, 4, 5, 6, 7])\n",
    "print(arr[:4])"
   ]
  },
  {
   "cell_type": "markdown",
   "id": "72fcde0a",
   "metadata": {},
   "source": [
    "## Negative Slicing\n",
    "\n",
    "Use the minus operator to refer to an index from the end:\n",
    "\n",
    "### Example\n",
    "Slice from the index 3 from the end to index 1 from the end:"
   ]
  },
  {
   "cell_type": "code",
   "execution_count": 9,
   "id": "b10c322f",
   "metadata": {},
   "outputs": [
    {
     "name": "stdout",
     "output_type": "stream",
     "text": [
      "[5 6]\n"
     ]
    }
   ],
   "source": [
    "arr = np.array([1, 2, 3, 4, 5, 6, 7])\n",
    "print(arr[-3:-1])"
   ]
  },
  {
   "cell_type": "markdown",
   "id": "8fe7ee36",
   "metadata": {},
   "source": [
    "## STEP\n",
    "Use the step value to determine the step of the slicing:\n",
    "\n",
    "### Example\n",
    "Return every other element from index 1 to index 5:"
   ]
  },
  {
   "cell_type": "code",
   "execution_count": 12,
   "id": "6593d0e6",
   "metadata": {},
   "outputs": [
    {
     "name": "stdout",
     "output_type": "stream",
     "text": [
      "[ 2  4  6  8 10 12]\n"
     ]
    }
   ],
   "source": [
    "arr = np.array([1, 2, 3, 4, 5, 6, 7, 8, 9, 10, 11, 12])\n",
    "print(arr[1:13:2])"
   ]
  },
  {
   "cell_type": "markdown",
   "id": "ee081193",
   "metadata": {},
   "source": [
    "### Example\n",
    "Return every other element from the entire array:"
   ]
  },
  {
   "cell_type": "code",
   "execution_count": 15,
   "id": "44f10769",
   "metadata": {},
   "outputs": [
    {
     "name": "stdout",
     "output_type": "stream",
     "text": [
      "[ 1  3  5  7  9 11 13]\n"
     ]
    }
   ],
   "source": [
    "arr = np.array([1, 2, 3, 4, 5, 6, 7, 8, 9, 10, 11, 12, 13])\n",
    "print(arr[::2])"
   ]
  },
  {
   "cell_type": "markdown",
   "id": "6b24293a",
   "metadata": {},
   "source": [
    "## Slicing 2-D Arrays\n",
    "### Example\n",
    "From the second element, slice elements from index 1 to index 4 (not included):"
   ]
  },
  {
   "cell_type": "code",
   "execution_count": 16,
   "id": "c88b2464",
   "metadata": {},
   "outputs": [
    {
     "name": "stdout",
     "output_type": "stream",
     "text": [
      "[7 8 9]\n"
     ]
    }
   ],
   "source": [
    "arr = np.array([[1, 2, 3, 4, 5], [6, 7, 8, 9, 10]])\n",
    "print(arr[1, 1:4])"
   ]
  },
  {
   "cell_type": "code",
   "execution_count": 17,
   "id": "9ee7dae7",
   "metadata": {},
   "outputs": [
    {
     "name": "stdout",
     "output_type": "stream",
     "text": [
      "[3 8]\n"
     ]
    }
   ],
   "source": [
    "arr = np.array([[1, 2, 3, 4, 5], [6, 7, 8, 9, 10]])\n",
    "print(arr[0:2,2])"
   ]
  },
  {
   "cell_type": "markdown",
   "id": "787ef02e",
   "metadata": {},
   "source": [
    "### Example\n",
    "From both elements, slice index 1 to index 4 (not included), this will return a 2-D array:"
   ]
  },
  {
   "cell_type": "code",
   "execution_count": 18,
   "id": "3238a9ff",
   "metadata": {},
   "outputs": [
    {
     "name": "stdout",
     "output_type": "stream",
     "text": [
      "[[2 3 4]\n",
      " [7 8 9]]\n"
     ]
    }
   ],
   "source": [
    "arr = np.array([[1, 2, 3, 4, 5], [6, 7, 8, 9, 10]])\n",
    "print(arr[0:2, 1:4])"
   ]
  },
  {
   "cell_type": "code",
   "execution_count": null,
   "id": "99cad851",
   "metadata": {},
   "outputs": [],
   "source": []
  }
 ],
 "metadata": {
  "kernelspec": {
   "display_name": "Python 3 (ipykernel)",
   "language": "python",
   "name": "python3"
  },
  "language_info": {
   "codemirror_mode": {
    "name": "ipython",
    "version": 3
   },
   "file_extension": ".py",
   "mimetype": "text/x-python",
   "name": "python",
   "nbconvert_exporter": "python",
   "pygments_lexer": "ipython3",
   "version": "3.10.9"
  }
 },
 "nbformat": 4,
 "nbformat_minor": 5
}
